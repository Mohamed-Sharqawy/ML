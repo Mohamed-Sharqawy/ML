{
 "cells": [
  {
   "cell_type": "code",
   "execution_count": 1,
   "id": "1eb6c0ef-44ba-435f-8f59-a13cebf23c5b",
   "metadata": {},
   "outputs": [],
   "source": [
    "import pandas as pd\n",
    "import numpy as np"
   ]
  },
  {
   "cell_type": "code",
   "execution_count": 3,
   "id": "e701ac68-467c-418b-9f41-f6d4abd2194d",
   "metadata": {},
   "outputs": [
    {
     "data": {
      "text/html": [
       "<div>\n",
       "<style scoped>\n",
       "    .dataframe tbody tr th:only-of-type {\n",
       "        vertical-align: middle;\n",
       "    }\n",
       "\n",
       "    .dataframe tbody tr th {\n",
       "        vertical-align: top;\n",
       "    }\n",
       "\n",
       "    .dataframe thead th {\n",
       "        text-align: right;\n",
       "    }\n",
       "</style>\n",
       "<table border=\"1\" class=\"dataframe\">\n",
       "  <thead>\n",
       "    <tr style=\"text-align: right;\">\n",
       "      <th></th>\n",
       "      <th>Name</th>\n",
       "      <th>Age</th>\n",
       "      <th>Gender</th>\n",
       "      <th>Admission Test Score</th>\n",
       "      <th>High School Percentage</th>\n",
       "      <th>City</th>\n",
       "      <th>Admission Status</th>\n",
       "    </tr>\n",
       "  </thead>\n",
       "  <tbody>\n",
       "    <tr>\n",
       "      <th>0</th>\n",
       "      <td>Shehroz</td>\n",
       "      <td>24.0</td>\n",
       "      <td>Female</td>\n",
       "      <td>50.0</td>\n",
       "      <td>68.90</td>\n",
       "      <td>Quetta</td>\n",
       "      <td>Rejected</td>\n",
       "    </tr>\n",
       "    <tr>\n",
       "      <th>1</th>\n",
       "      <td>Waqar</td>\n",
       "      <td>21.0</td>\n",
       "      <td>Female</td>\n",
       "      <td>99.0</td>\n",
       "      <td>60.73</td>\n",
       "      <td>Karachi</td>\n",
       "      <td>NaN</td>\n",
       "    </tr>\n",
       "    <tr>\n",
       "      <th>2</th>\n",
       "      <td>Bushra</td>\n",
       "      <td>17.0</td>\n",
       "      <td>Male</td>\n",
       "      <td>89.0</td>\n",
       "      <td>NaN</td>\n",
       "      <td>Islamabad</td>\n",
       "      <td>Accepted</td>\n",
       "    </tr>\n",
       "    <tr>\n",
       "      <th>3</th>\n",
       "      <td>Aliya</td>\n",
       "      <td>17.0</td>\n",
       "      <td>Male</td>\n",
       "      <td>55.0</td>\n",
       "      <td>85.29</td>\n",
       "      <td>Karachi</td>\n",
       "      <td>Rejected</td>\n",
       "    </tr>\n",
       "    <tr>\n",
       "      <th>4</th>\n",
       "      <td>Bilal</td>\n",
       "      <td>20.0</td>\n",
       "      <td>Male</td>\n",
       "      <td>65.0</td>\n",
       "      <td>61.13</td>\n",
       "      <td>Lahore</td>\n",
       "      <td>NaN</td>\n",
       "    </tr>\n",
       "  </tbody>\n",
       "</table>\n",
       "</div>"
      ],
      "text/plain": [
       "      Name   Age  Gender  Admission Test Score  High School Percentage  \\\n",
       "0  Shehroz  24.0  Female                  50.0                   68.90   \n",
       "1    Waqar  21.0  Female                  99.0                   60.73   \n",
       "2   Bushra  17.0    Male                  89.0                     NaN   \n",
       "3    Aliya  17.0    Male                  55.0                   85.29   \n",
       "4    Bilal  20.0    Male                  65.0                   61.13   \n",
       "\n",
       "        City Admission Status  \n",
       "0     Quetta         Rejected  \n",
       "1    Karachi              NaN  \n",
       "2  Islamabad         Accepted  \n",
       "3    Karachi         Rejected  \n",
       "4     Lahore              NaN  "
      ]
     },
     "execution_count": 3,
     "metadata": {},
     "output_type": "execute_result"
    }
   ],
   "source": [
    "data_frame = pd.read_csv('Student.csv')\n",
    "data_frame.head()"
   ]
  },
  {
   "cell_type": "code",
   "execution_count": 5,
   "id": "5495e7c5-31b4-41b1-9cca-9f6eaf7a0f85",
   "metadata": {
    "scrolled": true
   },
   "outputs": [],
   "source": [
    "data_frame.drop(columns = 'Name', inplace = True)"
   ]
  },
  {
   "cell_type": "code",
   "execution_count": 75,
   "id": "41589524-6dcb-40f1-84b1-961d6bb43ceb",
   "metadata": {},
   "outputs": [
    {
     "data": {
      "text/plain": [
       "Age                       0\n",
       "Gender                    0\n",
       "Admission Test Score      0\n",
       "High School Percentage    0\n",
       "City                      0\n",
       "Admission Status          0\n",
       "dtype: int64"
      ]
     },
     "execution_count": 75,
     "metadata": {},
     "output_type": "execute_result"
    }
   ],
   "source": [
    "data_frame.isna().sum()"
   ]
  },
  {
   "cell_type": "code",
   "execution_count": 9,
   "id": "773a3d8c-9842-4a45-a4d4-55c30c55ac67",
   "metadata": {},
   "outputs": [],
   "source": [
    "data_frame['Gender'] = data_frame['Gender'].fillna('Prefer Not to Mention')\n",
    "data_frame['City'] = data_frame['City'].fillna('Other')\n",
    "data_frame['Admission Status'] = data_frame['Admission Status'].fillna('No Answer was submitted')"
   ]
  },
  {
   "cell_type": "code",
   "execution_count": 61,
   "id": "9eb19113-df6f-44d1-8833-01d4b0925641",
   "metadata": {},
   "outputs": [],
   "source": [
    "Q1 = data_frame['High School Percentage'].quantile(0.25)\n",
    "Q3 = data_frame['High School Percentage'].quantile(0.75)"
   ]
  },
  {
   "cell_type": "code",
   "execution_count": 63,
   "id": "7100b532-0cb9-4885-a473-4e820d3319e0",
   "metadata": {},
   "outputs": [
    {
     "name": "stdout",
     "output_type": "stream",
     "text": [
      "Q1: 65.0525 , Q3: 88.3125, IQR: 23.260000000000005\n"
     ]
    }
   ],
   "source": [
    "IQR = Q3 - Q1\n",
    "print(f\"Q1: {Q1} , Q3: {Q3}, IQR: {IQR}\")"
   ]
  },
  {
   "cell_type": "code",
   "execution_count": 65,
   "id": "52c75d9f-e237-49c8-8109-523a1b08eec9",
   "metadata": {},
   "outputs": [
    {
     "name": "stdout",
     "output_type": "stream",
     "text": [
      "Upper boundary: 123.20250000000001, Lower boundary: 30.162499999999987\n"
     ]
    }
   ],
   "source": [
    "lower_boundary = Q1 - 1.5 * IQR\n",
    "upper_boundary = Q3 + 1.5 * IQR\n",
    "print(f\"Upper boundary: {upper_boundary}, Lower boundary: {lower_boundary}\")"
   ]
  },
  {
   "cell_type": "code",
   "execution_count": 67,
   "id": "f88ef9e1-e48a-4c1e-8377-817794643df5",
   "metadata": {},
   "outputs": [
    {
     "name": "stdout",
     "output_type": "stream",
     "text": [
      "Outliers: [-10.0, 0.0]\n"
     ]
    }
   ],
   "source": [
    "outliers = data_frame['High School Percentage'][(data_frame['High School Percentage'] < lower_boundary) | (data_frame['High School Percentage'] > upper_boundary) ].tolist()\n",
    "if outliers:\n",
    "    print(f\"Outliers: {outliers}\")\n",
    "else :\n",
    "    print(\"No Outliers found\")"
   ]
  },
  {
   "cell_type": "code",
   "execution_count": 69,
   "id": "8d7ffc56-498e-4dfe-aba4-942d784fdbff",
   "metadata": {},
   "outputs": [],
   "source": [
    "median = data_frame['High School Percentage'].median()"
   ]
  },
  {
   "cell_type": "code",
   "execution_count": 71,
   "id": "10d67fc5-cff8-4b04-89ee-16609f73ad92",
   "metadata": {},
   "outputs": [],
   "source": [
    "data_frame['High School Percentage'] = data_frame['High School Percentage'].apply(lambda x: median if x < lower_boundary or x > upper_boundary else x)"
   ]
  },
  {
   "cell_type": "code",
   "execution_count": 73,
   "id": "fbc1d4bc-0339-42b0-8b59-3a8902b79125",
   "metadata": {},
   "outputs": [],
   "source": [
    "data_frame['High School Percentage'] = data_frame['High School Percentage'].fillna(median)"
   ]
  },
  {
   "cell_type": "code",
   "execution_count": 77,
   "id": "40ad14dc-e038-4bac-944d-f93599f5c149",
   "metadata": {},
   "outputs": [],
   "source": [
    "data_frame.to_csv('Cleaned.csv', index=False)"
   ]
  }
 ],
 "metadata": {
  "kernelspec": {
   "display_name": "Python 3 (ipykernel)",
   "language": "python",
   "name": "python3"
  },
  "language_info": {
   "codemirror_mode": {
    "name": "ipython",
    "version": 3
   },
   "file_extension": ".py",
   "mimetype": "text/x-python",
   "name": "python",
   "nbconvert_exporter": "python",
   "pygments_lexer": "ipython3",
   "version": "3.12.4"
  }
 },
 "nbformat": 4,
 "nbformat_minor": 5
}
